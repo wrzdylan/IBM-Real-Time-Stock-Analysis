{
 "cells": [
  {
   "cell_type": "markdown",
   "metadata": {},
   "source": [
    "# Dataset analysis"
   ]
  },
  {
   "cell_type": "markdown",
   "metadata": {},
   "source": [
    "- Pourquoi mauvais shell pyenv ?"
   ]
  },
  {
   "cell_type": "code",
   "execution_count": 1,
   "metadata": {},
   "outputs": [],
   "source": [
    "import pandas as pd"
   ]
  },
  {
   "cell_type": "code",
   "execution_count": 6,
   "metadata": {},
   "outputs": [
    {
     "name": "stdout",
     "output_type": "stream",
     "text": [
      "              time     open    high      low   close  volume\n",
      "0  3/25/2022 19:19  131.300  131.30  131.300  131.30     718\n",
      "1  3/25/2022 19:18  131.300  131.30  131.300  131.30     282\n",
      "2  3/25/2022 17:50  131.300  131.30  131.300  131.30     100\n",
      "3  3/25/2022 16:59  131.340  131.35  131.340  131.35    1427\n",
      "4  3/25/2022 16:42  131.326  131.35  131.326  131.35    1326\n"
     ]
    },
    {
     "data": {
      "text/html": [
       "<div>\n",
       "<style scoped>\n",
       "    .dataframe tbody tr th:only-of-type {\n",
       "        vertical-align: middle;\n",
       "    }\n",
       "\n",
       "    .dataframe tbody tr th {\n",
       "        vertical-align: top;\n",
       "    }\n",
       "\n",
       "    .dataframe thead th {\n",
       "        text-align: right;\n",
       "    }\n",
       "</style>\n",
       "<table border=\"1\" class=\"dataframe\">\n",
       "  <thead>\n",
       "    <tr style=\"text-align: right;\">\n",
       "      <th></th>\n",
       "      <th>time</th>\n",
       "      <th>open</th>\n",
       "      <th>high</th>\n",
       "      <th>low</th>\n",
       "      <th>close</th>\n",
       "      <th>volume</th>\n",
       "    </tr>\n",
       "  </thead>\n",
       "  <tbody>\n",
       "    <tr>\n",
       "      <th>216878</th>\n",
       "      <td>4/6/2020 7:27</td>\n",
       "      <td>95.385037</td>\n",
       "      <td>95.385037</td>\n",
       "      <td>95.385037</td>\n",
       "      <td>95.385037</td>\n",
       "      <td>854</td>\n",
       "    </tr>\n",
       "    <tr>\n",
       "      <th>216879</th>\n",
       "      <td>4/6/2020 7:25</td>\n",
       "      <td>94.530379</td>\n",
       "      <td>94.530379</td>\n",
       "      <td>94.530379</td>\n",
       "      <td>94.530379</td>\n",
       "      <td>450</td>\n",
       "    </tr>\n",
       "    <tr>\n",
       "      <th>216880</th>\n",
       "      <td>4/6/2020 7:08</td>\n",
       "      <td>94.703037</td>\n",
       "      <td>94.703037</td>\n",
       "      <td>94.703037</td>\n",
       "      <td>94.703037</td>\n",
       "      <td>436</td>\n",
       "    </tr>\n",
       "    <tr>\n",
       "      <th>216881</th>\n",
       "      <td>4/6/2020 7:02</td>\n",
       "      <td>95.479999</td>\n",
       "      <td>95.479999</td>\n",
       "      <td>95.479999</td>\n",
       "      <td>95.479999</td>\n",
       "      <td>575</td>\n",
       "    </tr>\n",
       "    <tr>\n",
       "      <th>216882</th>\n",
       "      <td>4/6/2020 7:01</td>\n",
       "      <td>94.979290</td>\n",
       "      <td>94.979290</td>\n",
       "      <td>94.979290</td>\n",
       "      <td>94.979290</td>\n",
       "      <td>452</td>\n",
       "    </tr>\n",
       "  </tbody>\n",
       "</table>\n",
       "</div>"
      ],
      "text/plain": [
       "                 time       open       high        low      close  volume\n",
       "216878  4/6/2020 7:27  95.385037  95.385037  95.385037  95.385037     854\n",
       "216879  4/6/2020 7:25  94.530379  94.530379  94.530379  94.530379     450\n",
       "216880  4/6/2020 7:08  94.703037  94.703037  94.703037  94.703037     436\n",
       "216881  4/6/2020 7:02  95.479999  95.479999  95.479999  95.479999     575\n",
       "216882  4/6/2020 7:01  94.979290  94.979290  94.979290  94.979290     452"
      ]
     },
     "execution_count": 6,
     "metadata": {},
     "output_type": "execute_result"
    }
   ],
   "source": [
    "df_ibm = pd.read_csv('../data/2 Year IBM Stock Data.csv')\n",
    "print(df_ibm[:5])\n",
    "df_ibm.tail()"
   ]
  },
  {
   "cell_type": "markdown",
   "metadata": {},
   "source": [
    "## Data Collection"
   ]
  },
  {
   "cell_type": "markdown",
   "metadata": {},
   "source": []
  },
  {
   "cell_type": "markdown",
   "metadata": {},
   "source": [
    "## Data cleansing"
   ]
  }
 ],
 "metadata": {
  "interpreter": {
   "hash": "fe35cdab922e9132ee01d3bc951cb65a55efba4bdae75cf01c1143541fc92b88"
  },
  "kernelspec": {
   "display_name": "Python 3.9.12 64-bit ('env')",
   "language": "python",
   "name": "python3"
  },
  "language_info": {
   "codemirror_mode": {
    "name": "ipython",
    "version": 3
   },
   "file_extension": ".py",
   "mimetype": "text/x-python",
   "name": "python",
   "nbconvert_exporter": "python",
   "pygments_lexer": "ipython3",
   "version": "3.9.12"
  },
  "orig_nbformat": 4
 },
 "nbformat": 4,
 "nbformat_minor": 2
}
